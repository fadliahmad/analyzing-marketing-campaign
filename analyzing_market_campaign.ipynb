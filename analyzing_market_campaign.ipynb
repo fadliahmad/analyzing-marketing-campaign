{
 "cells": [
  {
   "cell_type": "markdown",
   "metadata": {},
   "source": [
    "# Analyzing Marketing Campaign with pandas"
   ]
  },
  {
   "cell_type": "markdown",
   "metadata": {},
   "source": [
    "## Importing the dataset"
   ]
  },
  {
   "cell_type": "markdown",
   "metadata": {},
   "source": [
    "We will use pandas to manipulate data and calculate summary statistics!\n",
    "\n",
    "In this project, we will begin by importing pandas and the marketing dataset into your environment."
   ]
  },
  {
   "cell_type": "code",
   "execution_count": 12,
   "metadata": {},
   "outputs": [],
   "source": [
    "#import library we need\n",
    "import pandas as pd\n",
    "import numpy as np \n",
    "import matplotlib.pyplot as plt\n",
    "\n",
    "#import and read csv file\n",
    "marketing = pd.read_csv('src/marketing.csv')"
   ]
  },
  {
   "cell_type": "markdown",
   "metadata": {},
   "source": [
    "## Examining"
   ]
  },
  {
   "cell_type": "markdown",
   "metadata": {},
   "source": [
    "Now that you've imported the data, you will examine it to ensure it is valid. While it may be tempting to dive into analysis, by validating your dataset immediately, you ensure that the insights you derive are both true and actionable. Ensuring the validity of your dataset should always be the first step you take when beginning analysis on a new dataset."
   ]
  },
  {
   "cell_type": "code",
   "execution_count": 13,
   "metadata": {},
   "outputs": [
    {
     "name": "stdout",
     "output_type": "stream",
     "text": [
      "      user_id date_served marketing_channel          variant converted  \\\n",
      "0  a100000029      1/1/18         House Ads  personalization      True   \n",
      "1  a100000030      1/1/18         House Ads  personalization      True   \n",
      "2  a100000031      1/1/18         House Ads  personalization      True   \n",
      "3  a100000032      1/1/18         House Ads  personalization      True   \n",
      "4  a100000033      1/1/18         House Ads  personalization      True   \n",
      "\n",
      "  language_displayed language_preferred    age_group date_subscribed  \\\n",
      "0            English            English   0-18 years          1/1/18   \n",
      "1            English            English  19-24 years          1/1/18   \n",
      "2            English            English  24-30 years          1/1/18   \n",
      "3            English            English  30-36 years          1/1/18   \n",
      "4            English            English  36-45 years          1/1/18   \n",
      "\n",
      "  date_canceled subscribing_channel is_retained  \n",
      "0           NaN           House Ads        True  \n",
      "1           NaN           House Ads        True  \n",
      "2           NaN           House Ads        True  \n",
      "3           NaN           House Ads        True  \n",
      "4           NaN           House Ads        True  \n"
     ]
    }
   ],
   "source": [
    "# Print the first five rows of the DataFrame\n",
    "print(marketing.head())"
   ]
  },
  {
   "cell_type": "code",
   "execution_count": 14,
   "metadata": {},
   "outputs": [
    {
     "name": "stdout",
     "output_type": "stream",
     "text": [
      "           user_id date_served marketing_channel  variant converted  \\\n",
      "count        10037       10021             10022    10037     10022   \n",
      "unique        7309          31                 5        2         2   \n",
      "top     a100000882     1/15/18         House Ads  control     False   \n",
      "freq            12         789              4733     5091      8946   \n",
      "\n",
      "       language_displayed language_preferred    age_group date_subscribed  \\\n",
      "count               10037              10037        10037            1856   \n",
      "unique                  4                  4            7              31   \n",
      "top               English            English  19-24 years         1/16/18   \n",
      "freq                 9793               9275         1682             163   \n",
      "\n",
      "       date_canceled subscribing_channel is_retained  \n",
      "count            577                1856        1856  \n",
      "unique           115                   5           2  \n",
      "top           4/2/18           Instagram        True  \n",
      "freq              15                 600        1279  \n"
     ]
    }
   ],
   "source": [
    "# Print the statistics of all columns\n",
    "print(marketing.describe())"
   ]
  },
  {
   "cell_type": "code",
   "execution_count": 15,
   "metadata": {},
   "outputs": [
    {
     "name": "stdout",
     "output_type": "stream",
     "text": [
      "<class 'pandas.core.frame.DataFrame'>\n",
      "RangeIndex: 10037 entries, 0 to 10036\n",
      "Data columns (total 12 columns):\n",
      " #   Column               Non-Null Count  Dtype \n",
      "---  ------               --------------  ----- \n",
      " 0   user_id              10037 non-null  object\n",
      " 1   date_served          10021 non-null  object\n",
      " 2   marketing_channel    10022 non-null  object\n",
      " 3   variant              10037 non-null  object\n",
      " 4   converted            10022 non-null  object\n",
      " 5   language_displayed   10037 non-null  object\n",
      " 6   language_preferred   10037 non-null  object\n",
      " 7   age_group            10037 non-null  object\n",
      " 8   date_subscribed      1856 non-null   object\n",
      " 9   date_canceled        577 non-null    object\n",
      " 10  subscribing_channel  1856 non-null   object\n",
      " 11  is_retained          1856 non-null   object\n",
      "dtypes: object(12)\n",
      "memory usage: 941.1+ KB\n",
      "None\n"
     ]
    }
   ],
   "source": [
    "# Check column data types and non-missing values\n",
    "print(marketing.info())"
   ]
  },
  {
   "cell_type": "markdown",
   "metadata": {},
   "source": [
    "From this data we can see that there are several data/fields that we have to transform, including: \n",
    "\n",
    "* Update the data type of the `is_retained` column from object to boolean\n",
    "* Update the data type of the `date_served`, `date_subscribed`, `date_canceled` column from object to date.\n",
    "* Add new column `day_of_week`: represents the day of the week as an integer (we added a new column, day that represents the day of the week and defined a dictionary that maps the day of the week to each numerical value from 0 to 6 for this purpose.)\n",
    "* Create a day of week column from `date_subscribed` using dt.dayofweek.\n",
    "* Add a new column `channel_code`: which maps the values in the subscribing_channel column to a numeric scale using the channel_dict dictionary.\n",
    "* Add new column `is_correct_lang`: conveys whether the ad was shown to the user in their preferred language\n",
    "\n",
    "Since there no null value in this date set, so nothing we have to do with it. "
   ]
  },
  {
   "cell_type": "markdown",
   "metadata": {},
   "source": [
    "## Data Transformations "
   ]
  },
  {
   "cell_type": "markdown",
   "metadata": {},
   "source": [
    "After we did the Exploratory Data Analyst above, and we found some columns that need to be transformed and some columns that need to be added, let's do it in this section: "
   ]
  },
  {
   "cell_type": "code",
   "execution_count": 21,
   "metadata": {},
   "outputs": [],
   "source": [
    "# Convert is_retained to a boolean\n",
    "marketing['is_retained'] = marketing['is_retained'].astype('bool')\n",
    "\n",
    "# Update the data type of the `date_served`, `date_subscribed`, `date_canceled` column from object to date.\n",
    "marketing['date_served'] = pd.to_datetime(marketing['date_served'])\n",
    "marketing['date_subscribed'] = pd.to_datetime(marketing['date_subscribed'])\n",
    "marketing['date_canceled'] = pd.to_datetime(marketing['date_canceled'])"
   ]
  },
  {
   "cell_type": "code",
   "execution_count": 22,
   "metadata": {},
   "outputs": [],
   "source": [
    "# Add new column `day_of_week`: represents the day of the week as an integer (we added a new column, \\ \n",
    "# day that represents the day of the week and defined a dictionary that maps the day of the week to each numerical value \\ \n",
    "# from 0 to 6 for this purpose.)\n",
    "\n",
    "# Create a day of week column from `date_subscribed` using dt.dayofweek.\n",
    "# Add a new column `channel_code`: which maps the values in the subscribing_channel column to a numeric scale using the channel_dict dictionary.\n",
    "# Add new column `is_correct_lang`: conveys whether the ad was shown to the user in their preferred language\n",
    "\n",
    "# Add the new colum date of week from date_subscribed\n",
    "marketing['DoW'] = marketing['date_subscribed'].dt.dayofweek\n",
    "\n",
    "# Mapping for channels\n",
    "channel_dict = {\"House Ads\": 1, \"Instagram\": 2, \n",
    "                \"Facebook\": 3, \"Email\": 4, \"Push\": 5}\n",
    "\n",
    "# Map the channel to a channel code\n",
    "marketing['channel_code'] = marketing['subscribing_channel'].map(channel_dict)\n",
    "\n",
    "# Add the new column is_correct_lang\n",
    "marketing['is_correct_lang'] = np.where(marketing['language_preferred'] == marketing['language_displayed'], \"Yes\", \"No\")"
   ]
  },
  {
   "cell_type": "code",
   "execution_count": 23,
   "metadata": {},
   "outputs": [
    {
     "name": "stdout",
     "output_type": "stream",
     "text": [
      "<class 'pandas.core.frame.DataFrame'>\n",
      "RangeIndex: 10037 entries, 0 to 10036\n",
      "Data columns (total 15 columns):\n",
      " #   Column               Non-Null Count  Dtype         \n",
      "---  ------               --------------  -----         \n",
      " 0   user_id              10037 non-null  object        \n",
      " 1   date_served          577 non-null    datetime64[ns]\n",
      " 2   marketing_channel    10022 non-null  object        \n",
      " 3   variant              10037 non-null  object        \n",
      " 4   converted            10022 non-null  object        \n",
      " 5   language_displayed   10037 non-null  object        \n",
      " 6   language_preferred   10037 non-null  object        \n",
      " 7   age_group            10037 non-null  object        \n",
      " 8   date_subscribed      1856 non-null   datetime64[ns]\n",
      " 9   date_canceled        577 non-null    datetime64[ns]\n",
      " 10  subscribing_channel  1856 non-null   object        \n",
      " 11  is_retained          10037 non-null  bool          \n",
      " 12  DoW                  1856 non-null   float64       \n",
      " 13  channel_code         1856 non-null   float64       \n",
      " 14  is_correct_lang      10037 non-null  object        \n",
      "dtypes: bool(1), datetime64[ns](3), float64(2), object(9)\n",
      "memory usage: 1.1+ MB\n",
      "None\n"
     ]
    }
   ],
   "source": [
    "# Let's re-check the dataframe now\n",
    "print(marketing.info())"
   ]
  }
 ],
 "metadata": {
  "kernelspec": {
   "display_name": "Python 3.10.0 64-bit",
   "language": "python",
   "name": "python3"
  },
  "language_info": {
   "codemirror_mode": {
    "name": "ipython",
    "version": 3
   },
   "file_extension": ".py",
   "mimetype": "text/x-python",
   "name": "python",
   "nbconvert_exporter": "python",
   "pygments_lexer": "ipython3",
   "version": "3.10.0"
  },
  "orig_nbformat": 4,
  "vscode": {
   "interpreter": {
    "hash": "f2573c990f66bf8638edd43863c10416bc68e31dec1de5dbf33750ae115d833c"
   }
  }
 },
 "nbformat": 4,
 "nbformat_minor": 2
}
